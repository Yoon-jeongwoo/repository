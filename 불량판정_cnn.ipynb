{
  "nbformat": 4,
  "nbformat_minor": 0,
  "metadata": {
    "colab": {
      "provenance": [],
      "gpuType": "T4"
    },
    "kernelspec": {
      "name": "python3",
      "display_name": "Python 3"
    },
    "language_info": {
      "name": "python"
    },
    "accelerator": "GPU"
  },
  "cells": [
    {
      "cell_type": "code",
      "source": [
        "from google.colab import drive\n",
        "drive.mount('/content/drive')"
      ],
      "metadata": {
        "colab": {
          "base_uri": "https://localhost:8080/"
        },
        "id": "XhJG-KWtVVrE",
        "outputId": "119adc27-6936-4ead-a67e-1c15adb333da"
      },
      "execution_count": null,
      "outputs": [
        {
          "output_type": "stream",
          "name": "stdout",
          "text": [
            "Mounted at /content/drive\n"
          ]
        }
      ]
    },
    {
      "cell_type": "code",
      "source": [
        "from PIL import Image\n",
        "import numpy as np\n",
        "import glob\n",
        "\n",
        "data_bottle_train = glob.glob('/content/drive/MyDrive/mvtec_anomaly_detection/bottle/train /*')\n",
        "data_bottle_test = {\n",
        "    'broken_large': glob.glob('/content/drive/MyDrive/mvtec_anomaly_detection/bottle/test/broken_large/*.png'),\n",
        "    'broken_small': glob.glob('/content/drive/MyDrive/mvtec_anomaly_detection/bottle/test/broken_small/*.png'),\n",
        "    'contamination': glob.glob('/content/drive/MyDrive/mvtec_anomaly_detection/bottle/test/contamination/*.png'),\n",
        "    'good': glob.glob('/content/drive/MyDrive/mvtec_anomaly_detection/bottle/test/good/*.png')\n",
        "}"
      ],
      "metadata": {
        "id": "2AOsej1itiAc"
      },
      "execution_count": null,
      "outputs": []
    },
    {
      "cell_type": "code",
      "source": [
        "x = []\n",
        "y = []\n",
        "\n",
        "# train 데이터 처리\n",
        "for file_path in data_bottle_train:\n",
        "    img = Image.open(file_path)\n",
        "    img = img.resize((224, 224))\n",
        "    img = img.convert(\"RGB\")\n",
        "    img = np.array(img) / 255.0\n",
        "    x.append(img)\n",
        "    y.append(0)  # 정상\n",
        "\n",
        "# test 데이터 처리\n",
        "for category, files in data_bottle_test.items():\n",
        "    is_defective = (category != 'good')  # 불량 이미지인 경우 True, 정상 이미지인 경우 False\n",
        "    for file_path in files:\n",
        "        img = Image.open(file_path)\n",
        "        img = img.resize((224, 224))\n",
        "        img = img.convert(\"RGB\")\n",
        "        img = np.array(img) / 255.0\n",
        "        x.append(img)\n",
        "        y.append(1 if is_defective else 0)  # 불량인 경우 1, 정상인 경우 0\n",
        "\n",
        "x = np.array(x)\n",
        "y = np.array(y)"
      ],
      "metadata": {
        "id": "7bsInFLAzQWn"
      },
      "execution_count": null,
      "outputs": []
    },
    {
      "cell_type": "code",
      "source": [
        "#학습 모델\n",
        "import tensorflow as tf\n",
        "from tensorflow.keras import layers\n",
        "from sklearn.model_selection import train_test_split\n",
        "\n",
        "# 데이터 분할\n",
        "x_train, x_test, y_train, y_test = train_test_split(x, y, test_size=0.2, random_state=42)\n",
        "\n",
        "# 모델 구성\n",
        "model = tf.keras.Sequential([\n",
        "    layers.Conv2D(32, (3, 3), activation='relu', input_shape=(224, 224, 3)),\n",
        "    layers.MaxPooling2D((2, 2)),\n",
        "    layers.Conv2D(64, (3, 3), activation='relu'),\n",
        "    layers.MaxPooling2D((2, 2)),\n",
        "    layers.Conv2D(64, (3, 3), activation='relu'),\n",
        "    layers.Flatten(),\n",
        "    layers.Dense(64, activation='relu'),\n",
        "    layers.Dense(1, activation='sigmoid')  # 불량 여부를 이진 분류로 출력 (0 또는 1)\n",
        "])\n",
        "\n",
        "# 모델 컴파일\n",
        "model.compile(optimizer='adam',\n",
        "              loss='binary_crossentropy',\n",
        "              metrics=['accuracy'])\n",
        "\n",
        "# 모델 학습\n",
        "model.fit(x_train, y_train, epochs=10, batch_size=32, validation_data=(x_test, y_test))\n",
        "\n",
        "# 모델 평가\n",
        "test_loss, test_accuracy = model.evaluate(x_test, y_test)\n",
        "print('Test Loss:', test_loss)\n",
        "print('Test Accuracy:', test_accuracy)"
      ],
      "metadata": {
        "colab": {
          "base_uri": "https://localhost:8080/"
        },
        "id": "EiA6mCsT9EJx",
        "outputId": "23edd01c-2517-44dd-933b-5ecd8af3d074"
      },
      "execution_count": null,
      "outputs": [
        {
          "output_type": "stream",
          "name": "stdout",
          "text": [
            "Epoch 1/10\n",
            "3/3 [==============================] - 2s 142ms/step - loss: 3.7373 - accuracy: 0.5000 - val_loss: 0.7378 - val_accuracy: 0.8235\n",
            "Epoch 2/10\n",
            "3/3 [==============================] - 0s 58ms/step - loss: 0.8012 - accuracy: 0.7424 - val_loss: 0.7544 - val_accuracy: 0.1765\n",
            "Epoch 3/10\n",
            "3/3 [==============================] - 0s 53ms/step - loss: 0.6614 - accuracy: 0.5909 - val_loss: 0.5587 - val_accuracy: 0.8235\n",
            "Epoch 4/10\n",
            "3/3 [==============================] - 0s 49ms/step - loss: 0.7548 - accuracy: 0.7424 - val_loss: 0.5027 - val_accuracy: 0.8235\n",
            "Epoch 5/10\n",
            "3/3 [==============================] - 0s 49ms/step - loss: 0.6183 - accuracy: 0.7424 - val_loss: 0.6590 - val_accuracy: 0.8235\n",
            "Epoch 6/10\n",
            "3/3 [==============================] - 0s 48ms/step - loss: 0.6608 - accuracy: 0.7424 - val_loss: 0.5515 - val_accuracy: 0.8235\n",
            "Epoch 7/10\n",
            "3/3 [==============================] - 0s 48ms/step - loss: 0.6070 - accuracy: 0.7424 - val_loss: 0.4896 - val_accuracy: 0.8235\n",
            "Epoch 8/10\n",
            "3/3 [==============================] - 0s 51ms/step - loss: 0.6627 - accuracy: 0.7424 - val_loss: 0.4945 - val_accuracy: 0.8235\n",
            "Epoch 9/10\n",
            "3/3 [==============================] - 0s 49ms/step - loss: 0.5998 - accuracy: 0.7424 - val_loss: 0.5824 - val_accuracy: 0.8235\n",
            "Epoch 10/10\n",
            "3/3 [==============================] - 0s 46ms/step - loss: 0.6011 - accuracy: 0.7424 - val_loss: 0.4731 - val_accuracy: 0.8235\n",
            "1/1 [==============================] - 0s 39ms/step - loss: 0.4731 - accuracy: 0.8235\n",
            "Test Loss: 0.4731454849243164\n",
            "Test Accuracy: 0.8235294222831726\n"
          ]
        }
      ]
    },
    {
      "cell_type": "code",
      "source": [],
      "metadata": {
        "id": "xvIMlVUOh4ww"
      },
      "execution_count": null,
      "outputs": []
    }
  ]
}